{
  "cells": [
    {
      "cell_type": "code",
      "execution_count": 2,
      "metadata": {
        "id": "VRuusWD0G20Y"
      },
      "outputs": [],
      "source": [
        "import numpy as np\n",
        "from numpy.linalg import inv"
      ]
    },
    {
      "cell_type": "code",
      "execution_count": 3,
      "metadata": {
        "id": "cNrHIA_UZJbl"
      },
      "outputs": [],
      "source": [
        "dt = 0.5\n",
        "S = 20\n",
        "D = 40\n",
        "R = np.array([[0.01]]) # v noise density\n",
        "Q = 0.1*np.eye(2) # w input density\n",
        "P = np.array([[0.01, 0],[0, 1]]) #initial P variance"
      ]
    },
    {
      "cell_type": "code",
      "execution_count": 4,
      "metadata": {
        "id": "9SaEnuTMR-ZU"
      },
      "outputs": [],
      "source": [
        "# jacobian matrices\n",
        "L = np.eye(2)\n",
        "M = np.array([[1]])\n",
        "F = np.array([[1, dt],[0, 1]])\n",
        "def H(p):\n",
        "    return np.array([S/((D-p)**2 + S**2), 0])"
      ]
    },
    {
      "cell_type": "code",
      "execution_count": 5,
      "metadata": {
        "id": "dro7jqM4a-Xm"
      },
      "outputs": [],
      "source": [
        "def f(x, u, w):\n",
        "    return F.dot(x) + np.array([0, dt]).T.dot(u) + w"
      ]
    },
    {
      "cell_type": "code",
      "execution_count": 6,
      "metadata": {
        "id": "zXxsgmwoiEQ_"
      },
      "outputs": [],
      "source": [
        "def h(p, v):\n",
        "    return np.arctan(S/(D-p)) + v"
      ]
    },
    {
      "cell_type": "code",
      "execution_count": 7,
      "metadata": {
        "id": "DJTmWPrmb5UH"
      },
      "outputs": [],
      "source": [
        "def prediction(x, u, P, Q):\n",
        "    x_priori = f(x, u, 0)\n",
        "    P_priori = F.dot(P).dot(F.T) + L.dot(Q).dot(L.T)\n",
        "    return x_priori, P_priori"
      ]
    },
    {
      "cell_type": "code",
      "execution_count": 8,
      "metadata": {
        "id": "p926qj4pfAWt"
      },
      "outputs": [],
      "source": [
        "def correction(P_priori, x_priori, y):\n",
        "    Hk = H(x_priori[0])\n",
        "    K = P_priori.dot(Hk.T).dot(inv(Hk.dot(P_priori).dot(Hk.T) + M.dot(R).dot(M.T))[0][0])\n",
        "    x_posteriori = x_priori + K.dot(y - h(x_priori, 0))\n",
        "    P_posteriori = (np.eye(2) - K.dot(Hk)).dot(P_priori)\n",
        "    return x_posteriori, P_posteriori"
      ]
    },
    {
      "cell_type": "code",
      "execution_count": 9,
      "metadata": {
        "id": "cC7x-al2ePhJ"
      },
      "outputs": [],
      "source": [
        "# initial conditions\n",
        "y = np.pi/6\n",
        "u = -2\n",
        "x = np.array([0, 5]).T"
      ]
    },
    {
      "cell_type": "code",
      "execution_count": 10,
      "metadata": {
        "colab": {
          "base_uri": "https://localhost:8080/"
        },
        "id": "BpV2g-89kyRm",
        "outputId": "03943eb5-f4c1-4013-ac2f-a4974828a294"
      },
      "outputs": [
        {
          "name": "stdout",
          "output_type": "stream",
          "text": [
            "[2.52244604 4.02244604]\n",
            "[[0.35622086 0.49296905]\n",
            " [0.49622086 1.09296905]]\n"
          ]
        }
      ],
      "source": [
        "x_pre, P_pre = prediction(x,u,P,Q)\n",
        "x_post, p_post = correction(P_pre, x_pre, y)\n",
        "print(x_post)\n",
        "print(p_post)"
      ]
    }
  ],
  "metadata": {
    "colab": {
      "provenance": []
    },
    "kernelspec": {
      "display_name": "Python 3",
      "name": "python3"
    },
    "language_info": {
      "codemirror_mode": {
        "name": "ipython",
        "version": 3
      },
      "file_extension": ".py",
      "mimetype": "text/x-python",
      "name": "python",
      "nbconvert_exporter": "python",
      "pygments_lexer": "ipython3",
      "version": "3.7.17"
    }
  },
  "nbformat": 4,
  "nbformat_minor": 0
}
